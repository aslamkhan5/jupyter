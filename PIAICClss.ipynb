{
 "cells": [
  {
   "cell_type": "code",
   "execution_count": 2,
   "metadata": {},
   "outputs": [
    {
     "name": "stdout",
     "output_type": "stream",
     "text": [
      "PIAIC BAHRIA UNIVERSITy\n",
      "Batch3 9 to 12\n",
      "Pakistan\n"
     ]
    }
   ],
   "source": [
    "print(\"PIAIC BAHRIA UNIVERSITy\")\n",
    "print(\"Batch3 9 to 12\")\n",
    "print(\"Pakistan\")\n"
   ]
  },
  {
   "cell_type": "code",
   "execution_count": 6,
   "metadata": {},
   "outputs": [
    {
     "name": "stdout",
     "output_type": "stream",
     "text": [
      "\n",
      "PIAIC ISLAMABAD BATCH3\n",
      "Name: Ali\n",
      "Father: Hamza\n",
      "University: Bahria University\n",
      "\n"
     ]
    }
   ],
   "source": [
    "name = \"Ali\"\n",
    "father_name = \"Hamza\"\n",
    "university = \"Bahria University\"\n",
    "\n",
    "message = \"\"\"\n",
    "PIAIC ISLAMABAD BATCH3\n",
    "Name: {}\n",
    "Father: {}\n",
    "University: {}\n",
    "\"\"\".format(name, father_name, university)\n",
    "\n",
    "print(message)"
   ]
  },
  {
   "cell_type": "code",
   "execution_count": null,
   "metadata": {},
   "outputs": [],
   "source": [
    "github.com/EnggQasim/PIAIC_ISLAMABAD_BATCH3"
   ]
  }
 ],
 "metadata": {
  "kernelspec": {
   "display_name": "Python 3",
   "language": "python",
   "name": "python3"
  },
  "language_info": {
   "codemirror_mode": {
    "name": "ipython",
    "version": 3
   },
   "file_extension": ".py",
   "mimetype": "text/x-python",
   "name": "python",
   "nbconvert_exporter": "python",
   "pygments_lexer": "ipython3",
   "version": "3.7.4"
  }
 },
 "nbformat": 4,
 "nbformat_minor": 2
}
